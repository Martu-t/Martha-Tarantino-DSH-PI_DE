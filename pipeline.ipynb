{
 "cells": [
  {
   "cell_type": "code",
   "execution_count": 1,
   "metadata": {},
   "outputs": [],
   "source": [
    "import pandas as pd\n",
    "import chardet\n",
    "import json\n",
    "import re\n",
    "import os\n",
    "import openpyxl"
   ]
  },
  {
   "cell_type": "code",
   "execution_count": null,
   "metadata": {},
   "outputs": [],
   "source": [
    "#df.reindex(colums = ['precio', 'producto_id', 'sucursal id'])"
   ]
  },
  {
   "cell_type": "code",
   "execution_count": 333,
   "metadata": {},
   "outputs": [],
   "source": [
    "#carga manual de dataset\n",
    "#TAREA: automatizarlo\n",
    "dataset1 = 'Datasets_relevamiento_precios/precios_semana_20200413.csv' #Csv precio_semana\n",
    "dataset2 = 'Datasets_relevamiento_precios/precios_semana_20200503.json' #json precio_semana\n",
    "dataset3 = 'Datasets_relevamiento_precios/precios_semana_20200518.txt'#txt precio_semana\n",
    "#dataset4 = 'Datasets_relevamiento_precios/precios_semanas_20200419_20200426.xlsx' #xls precio_semana\n",
    "dataset5 = 'Datasets_relevamiento_precios/producto.parquet' #parquet producto\n",
    "dataset6 = 'Datasets_relevamiento_precios/sucursal.csv' #csv sucursal\n",
    "\n"
   ]
  },
  {
   "cell_type": "code",
   "execution_count": 334,
   "metadata": {},
   "outputs": [],
   "source": [
    "#abro el archivo y veo el encoding - \n",
    "#TAREA: buscar si hay otra forma autom. de hacerlo\n",
    "def detect_encoding(dataset):\n",
    "    '''\n",
    "    Esta función sirve para detectar los tipo de enconding para distintos formatos\n",
    "    '''\n",
    "    with open(dataset, 'rb') as f:\n",
    "        enc = chardet.detect(f.read())\n",
    "    return enc['encoding']         "
   ]
  },
  {
   "cell_type": "code",
   "execution_count": null,
   "metadata": {},
   "outputs": [],
   "source": [
    "def abrir_dataset():\n",
    "    '''\n",
    "    Guarda en un dataset el contenido de un archivo dependiendo su terminación\n",
    "    '''\n",
    "    return "
   ]
  },
  {
   "cell_type": "code",
   "execution_count": 197,
   "metadata": {},
   "outputs": [],
   "source": [
    "#dataset precio semana 1\n",
    "precio_semana1 = pd.read_csv(dataset1, delimiter=\",\", encoding=detect_encoding(dataset1))"
   ]
  },
  {
   "cell_type": "code",
   "execution_count": 258,
   "metadata": {},
   "outputs": [
    {
     "data": {
      "text/html": [
       "<div>\n",
       "<style scoped>\n",
       "    .dataframe tbody tr th:only-of-type {\n",
       "        vertical-align: middle;\n",
       "    }\n",
       "\n",
       "    .dataframe tbody tr th {\n",
       "        vertical-align: top;\n",
       "    }\n",
       "\n",
       "    .dataframe thead th {\n",
       "        text-align: right;\n",
       "    }\n",
       "</style>\n",
       "<table border=\"1\" class=\"dataframe\">\n",
       "  <thead>\n",
       "    <tr style=\"text-align: right;\">\n",
       "      <th></th>\n",
       "      <th>precio</th>\n",
       "      <th>producto_id</th>\n",
       "      <th>sucursal_id</th>\n",
       "    </tr>\n",
       "  </thead>\n",
       "  <tbody>\n",
       "    <tr>\n",
       "      <th>0</th>\n",
       "      <td>29.90</td>\n",
       "      <td>0000000001663</td>\n",
       "      <td>2-1-014</td>\n",
       "    </tr>\n",
       "    <tr>\n",
       "      <th>1</th>\n",
       "      <td>29.90</td>\n",
       "      <td>0000000002288</td>\n",
       "      <td>2-1-032</td>\n",
       "    </tr>\n",
       "    <tr>\n",
       "      <th>2</th>\n",
       "      <td>39.90</td>\n",
       "      <td>0000000002288</td>\n",
       "      <td>2-1-096</td>\n",
       "    </tr>\n",
       "    <tr>\n",
       "      <th>3</th>\n",
       "      <td>499.99</td>\n",
       "      <td>0000000205870</td>\n",
       "      <td>9-1-686</td>\n",
       "    </tr>\n",
       "    <tr>\n",
       "      <th>4</th>\n",
       "      <td>519.99</td>\n",
       "      <td>0000000205870</td>\n",
       "      <td>9-2-248</td>\n",
       "    </tr>\n",
       "    <tr>\n",
       "      <th>...</th>\n",
       "      <td>...</td>\n",
       "      <td>...</td>\n",
       "      <td>...</td>\n",
       "    </tr>\n",
       "    <tr>\n",
       "      <th>472161</th>\n",
       "      <td>139.99</td>\n",
       "      <td>9569753142128</td>\n",
       "      <td>25-1-1</td>\n",
       "    </tr>\n",
       "    <tr>\n",
       "      <th>472162</th>\n",
       "      <td>34.99</td>\n",
       "      <td>9795403001143</td>\n",
       "      <td>25-1-1</td>\n",
       "    </tr>\n",
       "    <tr>\n",
       "      <th>472163</th>\n",
       "      <td>312.50</td>\n",
       "      <td>9990385651922</td>\n",
       "      <td>5-1-3</td>\n",
       "    </tr>\n",
       "    <tr>\n",
       "      <th>472164</th>\n",
       "      <td>312.50</td>\n",
       "      <td>9990385651939</td>\n",
       "      <td>5-1-3</td>\n",
       "    </tr>\n",
       "    <tr>\n",
       "      <th>472165</th>\n",
       "      <td>198.90</td>\n",
       "      <td>9990385651946</td>\n",
       "      <td>5-1-3</td>\n",
       "    </tr>\n",
       "  </tbody>\n",
       "</table>\n",
       "<p>472166 rows × 3 columns</p>\n",
       "</div>"
      ],
      "text/plain": [
       "        precio    producto_id sucursal_id\n",
       "0        29.90  0000000001663     2-1-014\n",
       "1        29.90  0000000002288     2-1-032\n",
       "2        39.90  0000000002288     2-1-096\n",
       "3       499.99  0000000205870     9-1-686\n",
       "4       519.99  0000000205870     9-2-248\n",
       "...        ...            ...         ...\n",
       "472161  139.99  9569753142128      25-1-1\n",
       "472162   34.99  9795403001143      25-1-1\n",
       "472163  312.50  9990385651922       5-1-3\n",
       "472164  312.50  9990385651939       5-1-3\n",
       "472165  198.90  9990385651946       5-1-3\n",
       "\n",
       "[472166 rows x 3 columns]"
      ]
     },
     "execution_count": 258,
     "metadata": {},
     "output_type": "execute_result"
    }
   ],
   "source": [
    "#ver la estrucura del df\n",
    "precio_semana1"
   ]
  },
  {
   "cell_type": "code",
   "execution_count": 252,
   "metadata": {},
   "outputs": [],
   "source": [
    "def busca_nulos(dataframe):\n",
    "    return dataframe.isnull().sum()\n"
   ]
  },
  {
   "cell_type": "code",
   "execution_count": 253,
   "metadata": {},
   "outputs": [
    {
     "data": {
      "text/plain": [
       "precio         13\n",
       "producto_id    15\n",
       "sucursal_id    15\n",
       "dtype: int64"
      ]
     },
     "execution_count": 253,
     "metadata": {},
     "output_type": "execute_result"
    }
   ],
   "source": [
    "#se buscan valores nulos en dataframe 1\n",
    "busca_nulos(precio_semana1)"
   ]
  },
  {
   "cell_type": "code",
   "execution_count": null,
   "metadata": {},
   "outputs": [],
   "source": [
    "# el % de nulos es relativamente bajo. Se mantienen para un futuro posible tratamiento en la étapa de análisis \n",
    "# y teniendo en cuenta el objetivo del negocio"
   ]
  },
  {
   "cell_type": "code",
   "execution_count": 199,
   "metadata": {},
   "outputs": [],
   "source": [
    "#el precio es de tipo flotante por lo que no es necesaria ninguna modificacion\n",
    "#precio_semana1['precio']=precio_semana1['precio'].astype(float)"
   ]
  },
  {
   "cell_type": "code",
   "execution_count": 275,
   "metadata": {},
   "outputs": [
    {
     "data": {
      "text/plain": [
       "0         0000000001663\n",
       "1         0000000002288\n",
       "2         0000000002288\n",
       "3         0000000205870\n",
       "4         0000000205870\n",
       "              ...      \n",
       "472161    9569753142128\n",
       "472162    9795403001143\n",
       "472163    9990385651922\n",
       "472164    9990385651939\n",
       "472165    9990385651946\n",
       "Name: producto_id, Length: 472166, dtype: object"
      ]
     },
     "execution_count": 275,
     "metadata": {},
     "output_type": "execute_result"
    }
   ],
   "source": [
    "#no parece haber nada raro en esto\n",
    "precio_semana1['producto_id']"
   ]
  },
  {
   "cell_type": "code",
   "execution_count": 327,
   "metadata": {},
   "outputs": [],
   "source": [
    "#dataset precio semana 2\n",
    "precio_semana2 = pd.read_json(dataset2)"
   ]
  },
  {
   "cell_type": "code",
   "execution_count": 321,
   "metadata": {},
   "outputs": [
    {
     "data": {
      "text/plain": [
       "precio         0\n",
       "producto_id    0\n",
       "sucursal_id    0\n",
       "dtype: int64"
      ]
     },
     "execution_count": 321,
     "metadata": {},
     "output_type": "execute_result"
    }
   ],
   "source": [
    "#se buscan valores nulos en dataframe 2\n",
    "busca_nulos(precio_semana2)"
   ]
  },
  {
   "cell_type": "code",
   "execution_count": 328,
   "metadata": {},
   "outputs": [],
   "source": [
    "#tranformar a numero cuando la serie tiene distintos tipos de datos\n",
    "precio_semana2['precio']=pd.to_numeric(precio_semana2.precio)"
   ]
  },
  {
   "cell_type": "code",
   "execution_count": 329,
   "metadata": {},
   "outputs": [
    {
     "data": {
      "text/plain": [
       "0          29.90\n",
       "1          39.90\n",
       "2         499.99\n",
       "3         539.99\n",
       "4         519.99\n",
       "           ...  \n",
       "397729    139.99\n",
       "397730     34.99\n",
       "397731    312.50\n",
       "397732    312.50\n",
       "397733    198.90\n",
       "Name: precio, Length: 397734, dtype: float64"
      ]
     },
     "execution_count": 329,
     "metadata": {},
     "output_type": "execute_result"
    }
   ],
   "source": [
    "#pasar a flotante el precio\n",
    "precio_semana2['precio'].astype(float)"
   ]
  },
  {
   "cell_type": "code",
   "execution_count": 335,
   "metadata": {},
   "outputs": [],
   "source": [
    "#dataset precio semana 3\n",
    "#pd.read_fwf(dataset4)\n",
    "precio_semana3 = pd.read_csv(dataset3, delimiter=\"|\", encoding=detect_encoding(dataset3))\n"
   ]
  },
  {
   "cell_type": "code",
   "execution_count": 336,
   "metadata": {},
   "outputs": [
    {
     "data": {
      "text/plain": [
       "precio         1960\n",
       "producto_id       6\n",
       "sucursal_id       6\n",
       "dtype: int64"
      ]
     },
     "execution_count": 336,
     "metadata": {},
     "output_type": "execute_result"
    }
   ],
   "source": [
    "#se buscan valores nulos en dataframe 3\n",
    "busca_nulos(precio_semana3)"
   ]
  },
  {
   "cell_type": "code",
   "execution_count": 351,
   "metadata": {},
   "outputs": [
    {
     "data": {
      "text/html": [
       "<div>\n",
       "<style scoped>\n",
       "    .dataframe tbody tr th:only-of-type {\n",
       "        vertical-align: middle;\n",
       "    }\n",
       "\n",
       "    .dataframe tbody tr th {\n",
       "        vertical-align: top;\n",
       "    }\n",
       "\n",
       "    .dataframe thead th {\n",
       "        text-align: right;\n",
       "    }\n",
       "</style>\n",
       "<table border=\"1\" class=\"dataframe\">\n",
       "  <thead>\n",
       "    <tr style=\"text-align: right;\">\n",
       "      <th></th>\n",
       "      <th>precio</th>\n",
       "      <th>producto_id</th>\n",
       "      <th>sucursal_id</th>\n",
       "    </tr>\n",
       "  </thead>\n",
       "  <tbody>\n",
       "    <tr>\n",
       "      <th>375118</th>\n",
       "      <td>203.0</td>\n",
       "      <td>NaN</td>\n",
       "      <td>NaN</td>\n",
       "    </tr>\n",
       "    <tr>\n",
       "      <th>375157</th>\n",
       "      <td>NaN</td>\n",
       "      <td>NaN</td>\n",
       "      <td>NaN</td>\n",
       "    </tr>\n",
       "    <tr>\n",
       "      <th>375193</th>\n",
       "      <td>240.0</td>\n",
       "      <td>NaN</td>\n",
       "      <td>NaN</td>\n",
       "    </tr>\n",
       "    <tr>\n",
       "      <th>375278</th>\n",
       "      <td>NaN</td>\n",
       "      <td>NaN</td>\n",
       "      <td>NaN</td>\n",
       "    </tr>\n",
       "    <tr>\n",
       "      <th>375357</th>\n",
       "      <td>NaN</td>\n",
       "      <td>NaN</td>\n",
       "      <td>NaN</td>\n",
       "    </tr>\n",
       "    <tr>\n",
       "      <th>375397</th>\n",
       "      <td>NaN</td>\n",
       "      <td>NaN</td>\n",
       "      <td>NaN</td>\n",
       "    </tr>\n",
       "  </tbody>\n",
       "</table>\n",
       "</div>"
      ],
      "text/plain": [
       "        precio producto_id sucursal_id\n",
       "375118   203.0         NaN         NaN\n",
       "375157     NaN         NaN         NaN\n",
       "375193   240.0         NaN         NaN\n",
       "375278     NaN         NaN         NaN\n",
       "375357     NaN         NaN         NaN\n",
       "375397     NaN         NaN         NaN"
      ]
     },
     "execution_count": 351,
     "metadata": {},
     "output_type": "execute_result"
    }
   ],
   "source": [
    "#guardo los valores nulos. Ya que no hay casi información es imposible dar con estos datos. \n",
    "# Se prosigue a eliminar los 6 registros\n",
    "precio_semana3[precio_semana3['producto_id'].isna()]"
   ]
  },
  {
   "cell_type": "code",
   "execution_count": 120,
   "metadata": {},
   "outputs": [],
   "source": [
    "#dataset precio semana 4\n",
    "precios_xlsx = pd.read_excel('Datasets_relevamiento_precios/precios_semanas_20200419_20200426.xlsx', sheet_name=None)"
   ]
  },
  {
   "cell_type": "code",
   "execution_count": 244,
   "metadata": {},
   "outputs": [],
   "source": [
    "# unir todas las hojas en un solo dataframe y limpiarlo desde allí\n",
    "precio_semana4 = pd.concat(precios_xlsx, ignore_index=True)"
   ]
  },
  {
   "cell_type": "code",
   "execution_count": 245,
   "metadata": {},
   "outputs": [
    {
     "data": {
      "text/html": [
       "<div>\n",
       "<style scoped>\n",
       "    .dataframe tbody tr th:only-of-type {\n",
       "        vertical-align: middle;\n",
       "    }\n",
       "\n",
       "    .dataframe tbody tr th {\n",
       "        vertical-align: top;\n",
       "    }\n",
       "\n",
       "    .dataframe thead th {\n",
       "        text-align: right;\n",
       "    }\n",
       "</style>\n",
       "<table border=\"1\" class=\"dataframe\">\n",
       "  <thead>\n",
       "    <tr style=\"text-align: right;\">\n",
       "      <th></th>\n",
       "      <th>precio</th>\n",
       "      <th>sucursal_id</th>\n",
       "      <th>producto_id</th>\n",
       "    </tr>\n",
       "  </thead>\n",
       "  <tbody>\n",
       "    <tr>\n",
       "      <th>0</th>\n",
       "      <td>399.00</td>\n",
       "      <td>2-1-092</td>\n",
       "      <td>2288.0</td>\n",
       "    </tr>\n",
       "    <tr>\n",
       "      <th>1</th>\n",
       "      <td>299.00</td>\n",
       "      <td>2-1-206</td>\n",
       "      <td>2288.0</td>\n",
       "    </tr>\n",
       "    <tr>\n",
       "      <th>2</th>\n",
       "      <td>399.00</td>\n",
       "      <td>2-2-241</td>\n",
       "      <td>2288.0</td>\n",
       "    </tr>\n",
       "    <tr>\n",
       "      <th>3</th>\n",
       "      <td>49999.00</td>\n",
       "      <td>9-1-430</td>\n",
       "      <td>205870.0</td>\n",
       "    </tr>\n",
       "    <tr>\n",
       "      <th>4</th>\n",
       "      <td>53999.00</td>\n",
       "      <td>9-2-4</td>\n",
       "      <td>205870.0</td>\n",
       "    </tr>\n",
       "    <tr>\n",
       "      <th>...</th>\n",
       "      <td>...</td>\n",
       "      <td>...</td>\n",
       "      <td>...</td>\n",
       "    </tr>\n",
       "    <tr>\n",
       "      <th>937447</th>\n",
       "      <td>139.99</td>\n",
       "      <td>2001-01-25 00:00:00</td>\n",
       "      <td>9569753142128</td>\n",
       "    </tr>\n",
       "    <tr>\n",
       "      <th>937448</th>\n",
       "      <td>34.99</td>\n",
       "      <td>2001-01-25 00:00:00</td>\n",
       "      <td>9795403001143</td>\n",
       "    </tr>\n",
       "    <tr>\n",
       "      <th>937449</th>\n",
       "      <td>312.50</td>\n",
       "      <td>2003-01-05 00:00:00</td>\n",
       "      <td>9990385651922</td>\n",
       "    </tr>\n",
       "    <tr>\n",
       "      <th>937450</th>\n",
       "      <td>312.50</td>\n",
       "      <td>2003-01-05 00:00:00</td>\n",
       "      <td>9990385651939</td>\n",
       "    </tr>\n",
       "    <tr>\n",
       "      <th>937451</th>\n",
       "      <td>198.90</td>\n",
       "      <td>2003-01-05 00:00:00</td>\n",
       "      <td>9990385651946</td>\n",
       "    </tr>\n",
       "  </tbody>\n",
       "</table>\n",
       "<p>937452 rows × 3 columns</p>\n",
       "</div>"
      ],
      "text/plain": [
       "          precio          sucursal_id    producto_id\n",
       "0         399.00              2-1-092         2288.0\n",
       "1         299.00              2-1-206         2288.0\n",
       "2         399.00              2-2-241         2288.0\n",
       "3       49999.00              9-1-430       205870.0\n",
       "4       53999.00                9-2-4       205870.0\n",
       "...          ...                  ...            ...\n",
       "937447    139.99  2001-01-25 00:00:00  9569753142128\n",
       "937448     34.99  2001-01-25 00:00:00  9795403001143\n",
       "937449    312.50  2003-01-05 00:00:00  9990385651922\n",
       "937450    312.50  2003-01-05 00:00:00  9990385651939\n",
       "937451    198.90  2003-01-05 00:00:00  9990385651946\n",
       "\n",
       "[937452 rows x 3 columns]"
      ]
     },
     "execution_count": 245,
     "metadata": {},
     "output_type": "execute_result"
    }
   ],
   "source": [
    "precio_semana4"
   ]
  },
  {
   "cell_type": "code",
   "execution_count": 247,
   "metadata": {},
   "outputs": [],
   "source": [
    "#convierto el dato str para poder manipularlo mejor\n",
    "precio_semana4['sucursal_id']=precio_semana4['sucursal_id'].astype(str)"
   ]
  },
  {
   "cell_type": "code",
   "execution_count": null,
   "metadata": {},
   "outputs": [],
   "source": [
    "def norm_fecha (x):\n",
    "    '''\n",
    "    Esta funcion intenta normalizar los datos que vienen cargados como datetime en alguna columna\n",
    "    toma cada argumento seguido de '-' y los retorna los valores en el órden correcto\n",
    "    '''\n",
    "    \n",
    "    if ' 00:00:00' in x:\n",
    "        x = x.replace(' 00:00:00','')\n",
    "        val_1 = x.split('-')[0]\n",
    "        val_2 = x.split('-')[1]\n",
    "        val_3 = x.split('-')[2]\n",
    "       \n",
    "        x = val_3 + '-' + val_2 + '-' + val_1\n",
    "    return x"
   ]
  },
  {
   "cell_type": "code",
   "execution_count": 248,
   "metadata": {},
   "outputs": [],
   "source": [
    "precio_semana4['sucursal_id']=precio_semana4['sucursal_id'].apply(norm_fecha)"
   ]
  },
  {
   "cell_type": "code",
   "execution_count": 249,
   "metadata": {},
   "outputs": [
    {
     "data": {
      "text/html": [
       "<div>\n",
       "<style scoped>\n",
       "    .dataframe tbody tr th:only-of-type {\n",
       "        vertical-align: middle;\n",
       "    }\n",
       "\n",
       "    .dataframe tbody tr th {\n",
       "        vertical-align: top;\n",
       "    }\n",
       "\n",
       "    .dataframe thead th {\n",
       "        text-align: right;\n",
       "    }\n",
       "</style>\n",
       "<table border=\"1\" class=\"dataframe\">\n",
       "  <thead>\n",
       "    <tr style=\"text-align: right;\">\n",
       "      <th></th>\n",
       "      <th>precio</th>\n",
       "      <th>sucursal_id</th>\n",
       "      <th>producto_id</th>\n",
       "    </tr>\n",
       "  </thead>\n",
       "  <tbody>\n",
       "    <tr>\n",
       "      <th>0</th>\n",
       "      <td>399.00</td>\n",
       "      <td>2-1-092</td>\n",
       "      <td>2288.0</td>\n",
       "    </tr>\n",
       "    <tr>\n",
       "      <th>1</th>\n",
       "      <td>299.00</td>\n",
       "      <td>2-1-206</td>\n",
       "      <td>2288.0</td>\n",
       "    </tr>\n",
       "    <tr>\n",
       "      <th>2</th>\n",
       "      <td>399.00</td>\n",
       "      <td>2-2-241</td>\n",
       "      <td>2288.0</td>\n",
       "    </tr>\n",
       "    <tr>\n",
       "      <th>3</th>\n",
       "      <td>49999.00</td>\n",
       "      <td>9-1-430</td>\n",
       "      <td>205870.0</td>\n",
       "    </tr>\n",
       "    <tr>\n",
       "      <th>4</th>\n",
       "      <td>53999.00</td>\n",
       "      <td>9-2-4</td>\n",
       "      <td>205870.0</td>\n",
       "    </tr>\n",
       "    <tr>\n",
       "      <th>...</th>\n",
       "      <td>...</td>\n",
       "      <td>...</td>\n",
       "      <td>...</td>\n",
       "    </tr>\n",
       "    <tr>\n",
       "      <th>937447</th>\n",
       "      <td>139.99</td>\n",
       "      <td>25-01-2001</td>\n",
       "      <td>9569753142128</td>\n",
       "    </tr>\n",
       "    <tr>\n",
       "      <th>937448</th>\n",
       "      <td>34.99</td>\n",
       "      <td>25-01-2001</td>\n",
       "      <td>9795403001143</td>\n",
       "    </tr>\n",
       "    <tr>\n",
       "      <th>937449</th>\n",
       "      <td>312.50</td>\n",
       "      <td>05-01-2003</td>\n",
       "      <td>9990385651922</td>\n",
       "    </tr>\n",
       "    <tr>\n",
       "      <th>937450</th>\n",
       "      <td>312.50</td>\n",
       "      <td>05-01-2003</td>\n",
       "      <td>9990385651939</td>\n",
       "    </tr>\n",
       "    <tr>\n",
       "      <th>937451</th>\n",
       "      <td>198.90</td>\n",
       "      <td>05-01-2003</td>\n",
       "      <td>9990385651946</td>\n",
       "    </tr>\n",
       "  </tbody>\n",
       "</table>\n",
       "<p>937452 rows × 3 columns</p>\n",
       "</div>"
      ],
      "text/plain": [
       "          precio sucursal_id    producto_id\n",
       "0         399.00     2-1-092         2288.0\n",
       "1         299.00     2-1-206         2288.0\n",
       "2         399.00     2-2-241         2288.0\n",
       "3       49999.00     9-1-430       205870.0\n",
       "4       53999.00       9-2-4       205870.0\n",
       "...          ...         ...            ...\n",
       "937447    139.99  25-01-2001  9569753142128\n",
       "937448     34.99  25-01-2001  9795403001143\n",
       "937449    312.50  05-01-2003  9990385651922\n",
       "937450    312.50  05-01-2003  9990385651939\n",
       "937451    198.90  05-01-2003  9990385651946\n",
       "\n",
       "[937452 rows x 3 columns]"
      ]
     },
     "execution_count": 249,
     "metadata": {},
     "output_type": "execute_result"
    }
   ],
   "source": [
    "precio_semana4"
   ]
  },
  {
   "cell_type": "code",
   "execution_count": 167,
   "metadata": {},
   "outputs": [
    {
     "data": {
      "text/html": [
       "<div>\n",
       "<style scoped>\n",
       "    .dataframe tbody tr th:only-of-type {\n",
       "        vertical-align: middle;\n",
       "    }\n",
       "\n",
       "    .dataframe tbody tr th {\n",
       "        vertical-align: top;\n",
       "    }\n",
       "\n",
       "    .dataframe thead th {\n",
       "        text-align: right;\n",
       "    }\n",
       "</style>\n",
       "<table border=\"1\" class=\"dataframe\">\n",
       "  <thead>\n",
       "    <tr style=\"text-align: right;\">\n",
       "      <th></th>\n",
       "      <th>precio</th>\n",
       "      <th>sucursal_id</th>\n",
       "      <th>producto_id</th>\n",
       "    </tr>\n",
       "  </thead>\n",
       "  <tbody>\n",
       "    <tr>\n",
       "      <th>0</th>\n",
       "      <td>399.00</td>\n",
       "      <td>2-1-092</td>\n",
       "      <td>2288.0</td>\n",
       "    </tr>\n",
       "    <tr>\n",
       "      <th>1</th>\n",
       "      <td>299.00</td>\n",
       "      <td>2-1-206</td>\n",
       "      <td>2288.0</td>\n",
       "    </tr>\n",
       "    <tr>\n",
       "      <th>2</th>\n",
       "      <td>399.00</td>\n",
       "      <td>2-2-241</td>\n",
       "      <td>2288.0</td>\n",
       "    </tr>\n",
       "    <tr>\n",
       "      <th>3</th>\n",
       "      <td>49999.00</td>\n",
       "      <td>9-1-430</td>\n",
       "      <td>205870.0</td>\n",
       "    </tr>\n",
       "    <tr>\n",
       "      <th>4</th>\n",
       "      <td>53999.00</td>\n",
       "      <td>9-2-4</td>\n",
       "      <td>205870.0</td>\n",
       "    </tr>\n",
       "    <tr>\n",
       "      <th>...</th>\n",
       "      <td>...</td>\n",
       "      <td>...</td>\n",
       "      <td>...</td>\n",
       "    </tr>\n",
       "    <tr>\n",
       "      <th>937447</th>\n",
       "      <td>139.99</td>\n",
       "      <td>2001-01-25 00:00:00</td>\n",
       "      <td>9569753142128</td>\n",
       "    </tr>\n",
       "    <tr>\n",
       "      <th>937448</th>\n",
       "      <td>34.99</td>\n",
       "      <td>2001-01-25 00:00:00</td>\n",
       "      <td>9795403001143</td>\n",
       "    </tr>\n",
       "    <tr>\n",
       "      <th>937449</th>\n",
       "      <td>312.50</td>\n",
       "      <td>2003-01-05 00:00:00</td>\n",
       "      <td>9990385651922</td>\n",
       "    </tr>\n",
       "    <tr>\n",
       "      <th>937450</th>\n",
       "      <td>312.50</td>\n",
       "      <td>2003-01-05 00:00:00</td>\n",
       "      <td>9990385651939</td>\n",
       "    </tr>\n",
       "    <tr>\n",
       "      <th>937451</th>\n",
       "      <td>198.90</td>\n",
       "      <td>2003-01-05 00:00:00</td>\n",
       "      <td>9990385651946</td>\n",
       "    </tr>\n",
       "  </tbody>\n",
       "</table>\n",
       "<p>937452 rows × 3 columns</p>\n",
       "</div>"
      ],
      "text/plain": [
       "          precio          sucursal_id    producto_id\n",
       "0         399.00              2-1-092         2288.0\n",
       "1         299.00              2-1-206         2288.0\n",
       "2         399.00              2-2-241         2288.0\n",
       "3       49999.00              9-1-430       205870.0\n",
       "4       53999.00                9-2-4       205870.0\n",
       "...          ...                  ...            ...\n",
       "937447    139.99  2001-01-25 00:00:00  9569753142128\n",
       "937448     34.99  2001-01-25 00:00:00  9795403001143\n",
       "937449    312.50  2003-01-05 00:00:00  9990385651922\n",
       "937450    312.50  2003-01-05 00:00:00  9990385651939\n",
       "937451    198.90  2003-01-05 00:00:00  9990385651946\n",
       "\n",
       "[937452 rows x 3 columns]"
      ]
     },
     "execution_count": 167,
     "metadata": {},
     "output_type": "execute_result"
    }
   ],
   "source": [
    "precio_semana4"
   ]
  },
  {
   "cell_type": "code",
   "execution_count": 45,
   "metadata": {},
   "outputs": [
    {
     "data": {
      "text/plain": [
       "precio         3543\n",
       "sucursal_id       0\n",
       "producto_id       0\n",
       "dtype: int64"
      ]
     },
     "execution_count": 45,
     "metadata": {},
     "output_type": "execute_result"
    }
   ],
   "source": [
    "# valores faltantes - al no ser un valor significativo se lo deja para que el Data Analyst los trate de ser necesario según el criterio del negocio\n",
    "precio_semana4.isna().sum()"
   ]
  },
  {
   "cell_type": "code",
   "execution_count": 138,
   "metadata": {},
   "outputs": [],
   "source": [
    "precio_semana4['producto_id'] = precio_semana4['producto_id'].fillna(0)"
   ]
  },
  {
   "cell_type": "code",
   "execution_count": 141,
   "metadata": {},
   "outputs": [
    {
     "data": {
      "text/html": [
       "<div>\n",
       "<style scoped>\n",
       "    .dataframe tbody tr th:only-of-type {\n",
       "        vertical-align: middle;\n",
       "    }\n",
       "\n",
       "    .dataframe tbody tr th {\n",
       "        vertical-align: top;\n",
       "    }\n",
       "\n",
       "    .dataframe thead th {\n",
       "        text-align: right;\n",
       "    }\n",
       "</style>\n",
       "<table border=\"1\" class=\"dataframe\">\n",
       "  <thead>\n",
       "    <tr style=\"text-align: right;\">\n",
       "      <th></th>\n",
       "      <th>precio</th>\n",
       "      <th>sucursal_id</th>\n",
       "      <th>producto_id</th>\n",
       "    </tr>\n",
       "  </thead>\n",
       "  <tbody>\n",
       "  </tbody>\n",
       "</table>\n",
       "</div>"
      ],
      "text/plain": [
       "Empty DataFrame\n",
       "Columns: [precio, sucursal_id, producto_id]\n",
       "Index: []"
      ]
     },
     "execution_count": 141,
     "metadata": {},
     "output_type": "execute_result"
    }
   ],
   "source": [
    "precio_semana4[precio_semana4['producto_id'].isna()]"
   ]
  },
  {
   "cell_type": "code",
   "execution_count": 111,
   "metadata": {},
   "outputs": [],
   "source": [
    "#elimino los números y unidades del nombre ya que parece un error de carga \n",
    "import re\n",
    "precio_semana4['producto_id'] = precio_semana4['producto_id'].astype(str).apply(lambda x: x.strip('10-1-'))\n"
   ]
  },
  {
   "cell_type": "code",
   "execution_count": 180,
   "metadata": {},
   "outputs": [],
   "source": [
    "precio_semana4['producto_id']=precio_semana4['producto_id'].astype(str).str.replace(\" \" ,\"\")"
   ]
  },
  {
   "cell_type": "code",
   "execution_count": null,
   "metadata": {},
   "outputs": [],
   "source": [
    "precio_semana4['producto_id']=precio_semana4['producto_id'].str.replace(\" \" ,\"\")"
   ]
  },
  {
   "cell_type": "code",
   "execution_count": null,
   "metadata": {},
   "outputs": [],
   "source": [
    "precio_semana4['producto_id'] = precio_semana4['producto_id'].astype(str).apply(lambda x: x.strip('10-1-'))"
   ]
  },
  {
   "cell_type": "code",
   "execution_count": null,
   "metadata": {},
   "outputs": [],
   "source": [
    "#precio_semana4['producto_id'].apply(lambda x: x.replace(' ',''))"
   ]
  },
  {
   "cell_type": "code",
   "execution_count": 309,
   "metadata": {},
   "outputs": [
    {
     "ename": "ValueError",
     "evalue": "could not convert string to float: '10-1-2300006000003'",
     "output_type": "error",
     "traceback": [
      "\u001b[0;31m---------------------------------------------------------------------------\u001b[0m",
      "\u001b[0;31mValueError\u001b[0m                                Traceback (most recent call last)",
      "Input \u001b[0;32mIn [309]\u001b[0m, in \u001b[0;36m<cell line: 2>\u001b[0;34m()\u001b[0m\n\u001b[1;32m      1\u001b[0m \u001b[38;5;66;03m#pasar columna precio a flotante\u001b[39;00m\n\u001b[0;32m----> 2\u001b[0m precio_semana4[\u001b[38;5;124m'\u001b[39m\u001b[38;5;124mproducto_id\u001b[39m\u001b[38;5;124m'\u001b[39m]\u001b[38;5;241m=\u001b[39m\u001b[43mprecio_semana4\u001b[49m\u001b[43m[\u001b[49m\u001b[38;5;124;43m'\u001b[39;49m\u001b[38;5;124;43mproducto_id\u001b[39;49m\u001b[38;5;124;43m'\u001b[39;49m\u001b[43m]\u001b[49m\u001b[38;5;241;43m.\u001b[39;49m\u001b[43mastype\u001b[49m\u001b[43m(\u001b[49m\u001b[38;5;28;43mfloat\u001b[39;49m\u001b[43m)\u001b[49m\n",
      "File \u001b[0;32m/usr/local/lib/python3.9/site-packages/pandas/core/generic.py:5912\u001b[0m, in \u001b[0;36mNDFrame.astype\u001b[0;34m(self, dtype, copy, errors)\u001b[0m\n\u001b[1;32m   5905\u001b[0m     results \u001b[38;5;241m=\u001b[39m [\n\u001b[1;32m   5906\u001b[0m         \u001b[38;5;28mself\u001b[39m\u001b[38;5;241m.\u001b[39miloc[:, i]\u001b[38;5;241m.\u001b[39mastype(dtype, copy\u001b[38;5;241m=\u001b[39mcopy)\n\u001b[1;32m   5907\u001b[0m         \u001b[38;5;28;01mfor\u001b[39;00m i \u001b[38;5;129;01min\u001b[39;00m \u001b[38;5;28mrange\u001b[39m(\u001b[38;5;28mlen\u001b[39m(\u001b[38;5;28mself\u001b[39m\u001b[38;5;241m.\u001b[39mcolumns))\n\u001b[1;32m   5908\u001b[0m     ]\n\u001b[1;32m   5910\u001b[0m \u001b[38;5;28;01melse\u001b[39;00m:\n\u001b[1;32m   5911\u001b[0m     \u001b[38;5;66;03m# else, only a single dtype is given\u001b[39;00m\n\u001b[0;32m-> 5912\u001b[0m     new_data \u001b[38;5;241m=\u001b[39m \u001b[38;5;28;43mself\u001b[39;49m\u001b[38;5;241;43m.\u001b[39;49m\u001b[43m_mgr\u001b[49m\u001b[38;5;241;43m.\u001b[39;49m\u001b[43mastype\u001b[49m\u001b[43m(\u001b[49m\u001b[43mdtype\u001b[49m\u001b[38;5;241;43m=\u001b[39;49m\u001b[43mdtype\u001b[49m\u001b[43m,\u001b[49m\u001b[43m \u001b[49m\u001b[43mcopy\u001b[49m\u001b[38;5;241;43m=\u001b[39;49m\u001b[43mcopy\u001b[49m\u001b[43m,\u001b[49m\u001b[43m \u001b[49m\u001b[43merrors\u001b[49m\u001b[38;5;241;43m=\u001b[39;49m\u001b[43merrors\u001b[49m\u001b[43m)\u001b[49m\n\u001b[1;32m   5913\u001b[0m     \u001b[38;5;28;01mreturn\u001b[39;00m \u001b[38;5;28mself\u001b[39m\u001b[38;5;241m.\u001b[39m_constructor(new_data)\u001b[38;5;241m.\u001b[39m__finalize__(\u001b[38;5;28mself\u001b[39m, method\u001b[38;5;241m=\u001b[39m\u001b[38;5;124m\"\u001b[39m\u001b[38;5;124mastype\u001b[39m\u001b[38;5;124m\"\u001b[39m)\n\u001b[1;32m   5915\u001b[0m \u001b[38;5;66;03m# GH 33113: handle empty frame or series\u001b[39;00m\n",
      "File \u001b[0;32m/usr/local/lib/python3.9/site-packages/pandas/core/internals/managers.py:419\u001b[0m, in \u001b[0;36mBaseBlockManager.astype\u001b[0;34m(self, dtype, copy, errors)\u001b[0m\n\u001b[1;32m    418\u001b[0m \u001b[38;5;28;01mdef\u001b[39;00m \u001b[38;5;21mastype\u001b[39m(\u001b[38;5;28mself\u001b[39m: T, dtype, copy: \u001b[38;5;28mbool\u001b[39m \u001b[38;5;241m=\u001b[39m \u001b[38;5;28;01mFalse\u001b[39;00m, errors: \u001b[38;5;28mstr\u001b[39m \u001b[38;5;241m=\u001b[39m \u001b[38;5;124m\"\u001b[39m\u001b[38;5;124mraise\u001b[39m\u001b[38;5;124m\"\u001b[39m) \u001b[38;5;241m-\u001b[39m\u001b[38;5;241m>\u001b[39m T:\n\u001b[0;32m--> 419\u001b[0m     \u001b[38;5;28;01mreturn\u001b[39;00m \u001b[38;5;28;43mself\u001b[39;49m\u001b[38;5;241;43m.\u001b[39;49m\u001b[43mapply\u001b[49m\u001b[43m(\u001b[49m\u001b[38;5;124;43m\"\u001b[39;49m\u001b[38;5;124;43mastype\u001b[39;49m\u001b[38;5;124;43m\"\u001b[39;49m\u001b[43m,\u001b[49m\u001b[43m \u001b[49m\u001b[43mdtype\u001b[49m\u001b[38;5;241;43m=\u001b[39;49m\u001b[43mdtype\u001b[49m\u001b[43m,\u001b[49m\u001b[43m \u001b[49m\u001b[43mcopy\u001b[49m\u001b[38;5;241;43m=\u001b[39;49m\u001b[43mcopy\u001b[49m\u001b[43m,\u001b[49m\u001b[43m \u001b[49m\u001b[43merrors\u001b[49m\u001b[38;5;241;43m=\u001b[39;49m\u001b[43merrors\u001b[49m\u001b[43m)\u001b[49m\n",
      "File \u001b[0;32m/usr/local/lib/python3.9/site-packages/pandas/core/internals/managers.py:304\u001b[0m, in \u001b[0;36mBaseBlockManager.apply\u001b[0;34m(self, f, align_keys, ignore_failures, **kwargs)\u001b[0m\n\u001b[1;32m    302\u001b[0m         applied \u001b[38;5;241m=\u001b[39m b\u001b[38;5;241m.\u001b[39mapply(f, \u001b[38;5;241m*\u001b[39m\u001b[38;5;241m*\u001b[39mkwargs)\n\u001b[1;32m    303\u001b[0m     \u001b[38;5;28;01melse\u001b[39;00m:\n\u001b[0;32m--> 304\u001b[0m         applied \u001b[38;5;241m=\u001b[39m \u001b[38;5;28;43mgetattr\u001b[39;49m\u001b[43m(\u001b[49m\u001b[43mb\u001b[49m\u001b[43m,\u001b[49m\u001b[43m \u001b[49m\u001b[43mf\u001b[49m\u001b[43m)\u001b[49m\u001b[43m(\u001b[49m\u001b[38;5;241;43m*\u001b[39;49m\u001b[38;5;241;43m*\u001b[39;49m\u001b[43mkwargs\u001b[49m\u001b[43m)\u001b[49m\n\u001b[1;32m    305\u001b[0m \u001b[38;5;28;01mexcept\u001b[39;00m (\u001b[38;5;167;01mTypeError\u001b[39;00m, \u001b[38;5;167;01mNotImplementedError\u001b[39;00m):\n\u001b[1;32m    306\u001b[0m     \u001b[38;5;28;01mif\u001b[39;00m \u001b[38;5;129;01mnot\u001b[39;00m ignore_failures:\n",
      "File \u001b[0;32m/usr/local/lib/python3.9/site-packages/pandas/core/internals/blocks.py:580\u001b[0m, in \u001b[0;36mBlock.astype\u001b[0;34m(self, dtype, copy, errors)\u001b[0m\n\u001b[1;32m    562\u001b[0m \u001b[38;5;124;03m\"\"\"\u001b[39;00m\n\u001b[1;32m    563\u001b[0m \u001b[38;5;124;03mCoerce to the new dtype.\u001b[39;00m\n\u001b[1;32m    564\u001b[0m \n\u001b[0;32m   (...)\u001b[0m\n\u001b[1;32m    576\u001b[0m \u001b[38;5;124;03mBlock\u001b[39;00m\n\u001b[1;32m    577\u001b[0m \u001b[38;5;124;03m\"\"\"\u001b[39;00m\n\u001b[1;32m    578\u001b[0m values \u001b[38;5;241m=\u001b[39m \u001b[38;5;28mself\u001b[39m\u001b[38;5;241m.\u001b[39mvalues\n\u001b[0;32m--> 580\u001b[0m new_values \u001b[38;5;241m=\u001b[39m \u001b[43mastype_array_safe\u001b[49m\u001b[43m(\u001b[49m\u001b[43mvalues\u001b[49m\u001b[43m,\u001b[49m\u001b[43m \u001b[49m\u001b[43mdtype\u001b[49m\u001b[43m,\u001b[49m\u001b[43m \u001b[49m\u001b[43mcopy\u001b[49m\u001b[38;5;241;43m=\u001b[39;49m\u001b[43mcopy\u001b[49m\u001b[43m,\u001b[49m\u001b[43m \u001b[49m\u001b[43merrors\u001b[49m\u001b[38;5;241;43m=\u001b[39;49m\u001b[43merrors\u001b[49m\u001b[43m)\u001b[49m\n\u001b[1;32m    582\u001b[0m new_values \u001b[38;5;241m=\u001b[39m maybe_coerce_values(new_values)\n\u001b[1;32m    583\u001b[0m newb \u001b[38;5;241m=\u001b[39m \u001b[38;5;28mself\u001b[39m\u001b[38;5;241m.\u001b[39mmake_block(new_values)\n",
      "File \u001b[0;32m/usr/local/lib/python3.9/site-packages/pandas/core/dtypes/cast.py:1292\u001b[0m, in \u001b[0;36mastype_array_safe\u001b[0;34m(values, dtype, copy, errors)\u001b[0m\n\u001b[1;32m   1289\u001b[0m     dtype \u001b[38;5;241m=\u001b[39m dtype\u001b[38;5;241m.\u001b[39mnumpy_dtype\n\u001b[1;32m   1291\u001b[0m \u001b[38;5;28;01mtry\u001b[39;00m:\n\u001b[0;32m-> 1292\u001b[0m     new_values \u001b[38;5;241m=\u001b[39m \u001b[43mastype_array\u001b[49m\u001b[43m(\u001b[49m\u001b[43mvalues\u001b[49m\u001b[43m,\u001b[49m\u001b[43m \u001b[49m\u001b[43mdtype\u001b[49m\u001b[43m,\u001b[49m\u001b[43m \u001b[49m\u001b[43mcopy\u001b[49m\u001b[38;5;241;43m=\u001b[39;49m\u001b[43mcopy\u001b[49m\u001b[43m)\u001b[49m\n\u001b[1;32m   1293\u001b[0m \u001b[38;5;28;01mexcept\u001b[39;00m (\u001b[38;5;167;01mValueError\u001b[39;00m, \u001b[38;5;167;01mTypeError\u001b[39;00m):\n\u001b[1;32m   1294\u001b[0m     \u001b[38;5;66;03m# e.g. astype_nansafe can fail on object-dtype of strings\u001b[39;00m\n\u001b[1;32m   1295\u001b[0m     \u001b[38;5;66;03m#  trying to convert to float\u001b[39;00m\n\u001b[1;32m   1296\u001b[0m     \u001b[38;5;28;01mif\u001b[39;00m errors \u001b[38;5;241m==\u001b[39m \u001b[38;5;124m\"\u001b[39m\u001b[38;5;124mignore\u001b[39m\u001b[38;5;124m\"\u001b[39m:\n",
      "File \u001b[0;32m/usr/local/lib/python3.9/site-packages/pandas/core/dtypes/cast.py:1237\u001b[0m, in \u001b[0;36mastype_array\u001b[0;34m(values, dtype, copy)\u001b[0m\n\u001b[1;32m   1234\u001b[0m     values \u001b[38;5;241m=\u001b[39m values\u001b[38;5;241m.\u001b[39mastype(dtype, copy\u001b[38;5;241m=\u001b[39mcopy)\n\u001b[1;32m   1236\u001b[0m \u001b[38;5;28;01melse\u001b[39;00m:\n\u001b[0;32m-> 1237\u001b[0m     values \u001b[38;5;241m=\u001b[39m \u001b[43mastype_nansafe\u001b[49m\u001b[43m(\u001b[49m\u001b[43mvalues\u001b[49m\u001b[43m,\u001b[49m\u001b[43m \u001b[49m\u001b[43mdtype\u001b[49m\u001b[43m,\u001b[49m\u001b[43m \u001b[49m\u001b[43mcopy\u001b[49m\u001b[38;5;241;43m=\u001b[39;49m\u001b[43mcopy\u001b[49m\u001b[43m)\u001b[49m\n\u001b[1;32m   1239\u001b[0m \u001b[38;5;66;03m# in pandas we don't store numpy str dtypes, so convert to object\u001b[39;00m\n\u001b[1;32m   1240\u001b[0m \u001b[38;5;28;01mif\u001b[39;00m \u001b[38;5;28misinstance\u001b[39m(dtype, np\u001b[38;5;241m.\u001b[39mdtype) \u001b[38;5;129;01mand\u001b[39;00m \u001b[38;5;28missubclass\u001b[39m(values\u001b[38;5;241m.\u001b[39mdtype\u001b[38;5;241m.\u001b[39mtype, \u001b[38;5;28mstr\u001b[39m):\n",
      "File \u001b[0;32m/usr/local/lib/python3.9/site-packages/pandas/core/dtypes/cast.py:1181\u001b[0m, in \u001b[0;36mastype_nansafe\u001b[0;34m(arr, dtype, copy, skipna)\u001b[0m\n\u001b[1;32m   1177\u001b[0m     \u001b[38;5;28;01mraise\u001b[39;00m \u001b[38;5;167;01mValueError\u001b[39;00m(msg)\n\u001b[1;32m   1179\u001b[0m \u001b[38;5;28;01mif\u001b[39;00m copy \u001b[38;5;129;01mor\u001b[39;00m is_object_dtype(arr\u001b[38;5;241m.\u001b[39mdtype) \u001b[38;5;129;01mor\u001b[39;00m is_object_dtype(dtype):\n\u001b[1;32m   1180\u001b[0m     \u001b[38;5;66;03m# Explicit copy, or required since NumPy can't view from / to object.\u001b[39;00m\n\u001b[0;32m-> 1181\u001b[0m     \u001b[38;5;28;01mreturn\u001b[39;00m \u001b[43marr\u001b[49m\u001b[38;5;241;43m.\u001b[39;49m\u001b[43mastype\u001b[49m\u001b[43m(\u001b[49m\u001b[43mdtype\u001b[49m\u001b[43m,\u001b[49m\u001b[43m \u001b[49m\u001b[43mcopy\u001b[49m\u001b[38;5;241;43m=\u001b[39;49m\u001b[38;5;28;43;01mTrue\u001b[39;49;00m\u001b[43m)\u001b[49m\n\u001b[1;32m   1183\u001b[0m \u001b[38;5;28;01mreturn\u001b[39;00m arr\u001b[38;5;241m.\u001b[39mastype(dtype, copy\u001b[38;5;241m=\u001b[39mcopy)\n",
      "\u001b[0;31mValueError\u001b[0m: could not convert string to float: '10-1-2300006000003'"
     ]
    }
   ],
   "source": [
    "#pasar columna precio a flotante\n",
    "precio_semana4['producto_id']=precio_semana4['producto_id'].astype(float)"
   ]
  },
  {
   "cell_type": "code",
   "execution_count": 181,
   "metadata": {},
   "outputs": [],
   "source": [
    "#dataset producto\n",
    "producto = pd.read_parquet(dataset5, engine='pyarrow')"
   ]
  },
  {
   "cell_type": "code",
   "execution_count": 117,
   "metadata": {},
   "outputs": [],
   "source": [
    "#tamaño de la tabla producto.shape (72038, 7)\n",
    "#la tabla no tiene productos duplicados --> producto.drop_duplicates(inplace=True)\n",
    "#shape despues de borrar duplicados es la misma #tamaño de la tabla (72038, 7)"
   ]
  },
  {
   "cell_type": "code",
   "execution_count": 170,
   "metadata": {},
   "outputs": [
    {
     "data": {
      "text/plain": [
       "(72038, 7)"
      ]
     },
     "execution_count": 170,
     "metadata": {},
     "output_type": "execute_result"
    }
   ],
   "source": [
    "#tamaño de la tabla\n",
    "producto.shape"
   ]
  },
  {
   "cell_type": "code",
   "execution_count": 118,
   "metadata": {},
   "outputs": [
    {
     "data": {
      "text/plain": [
       "(72038, 7)"
      ]
     },
     "execution_count": 118,
     "metadata": {},
     "output_type": "execute_result"
    }
   ],
   "source": [
    "#tamaño de la tabla\n",
    "producto.shape"
   ]
  },
  {
   "cell_type": "code",
   "execution_count": 107,
   "metadata": {},
   "outputs": [
    {
     "data": {
      "text/plain": [
       "id                  0\n",
       "marca               2\n",
       "nombre              2\n",
       "presentacion        2\n",
       "categoria1      72034\n",
       "categoria2      72034\n",
       "categoria3      72034\n",
       "dtype: int64"
      ]
     },
     "execution_count": 107,
     "metadata": {},
     "output_type": "execute_result"
    }
   ],
   "source": [
    "#ver valores nulos \n",
    "producto.isnull().sum() #mismo resultado si uso .isna "
   ]
  },
  {
   "cell_type": "code",
   "execution_count": null,
   "metadata": {},
   "outputs": [],
   "source": [
    "#las columnas últimas 3 columnas tienen un % muy bajo de valores y es muy difícil inferir cuales serían los datos faltantes sólo en base a la información que tenemos.\n",
    "#Elimino las columnas y si fuera un caso real, le muestro los siguientes porcentajes al cliente para su consideración. \n",
    "# Además le preguntaría si esa info es relevante y de serlo, propondría armar una tabla de categorías (id producto y categoría)"
   ]
  },
  {
   "cell_type": "code",
   "execution_count": 139,
   "metadata": {},
   "outputs": [],
   "source": [
    "#guardo el total en una variable\n",
    "total = producto.shape[0]\n"
   ]
  },
  {
   "cell_type": "code",
   "execution_count": 175,
   "metadata": {},
   "outputs": [
    {
     "data": {
      "text/plain": [
       "72034"
      ]
     },
     "execution_count": 175,
     "metadata": {},
     "output_type": "execute_result"
    }
   ],
   "source": [
    "producto.categoria1.isnull().sum()"
   ]
  },
  {
   "cell_type": "code",
   "execution_count": 176,
   "metadata": {},
   "outputs": [
    {
     "name": "stdout",
     "output_type": "stream",
     "text": [
      "total de faltantes categoría 1: 99.99 %\n",
      "total de faltantes categoría 2: 99.99 %\n",
      "total de faltantes categoría 3: 99.99 %\n"
     ]
    }
   ],
   "source": [
    "nulos_cat1 = round((72034*100/total), 2)\n",
    "nulos_cat2 = round((72034*100/total), 2)\n",
    "nulos_cat3 = round((72034*100/total), 2)\n",
    "print(\"total de faltantes categoría 1:\", nulos_cat1, '%')\n",
    "print(\"total de faltantes categoría 2:\", nulos_cat3, '%')\n",
    "print(\"total de faltantes categoría 3:\", nulos_cat2, '%')"
   ]
  },
  {
   "cell_type": "code",
   "execution_count": 182,
   "metadata": {},
   "outputs": [],
   "source": [
    "#dropeo las ultimas columnas\n",
    "producto.drop(['categoria1', 'categoria2', 'categoria3'], axis=1, inplace=True)"
   ]
  },
  {
   "cell_type": "code",
   "execution_count": 114,
   "metadata": {},
   "outputs": [
    {
     "data": {
      "text/html": [
       "<div>\n",
       "<style scoped>\n",
       "    .dataframe tbody tr th:only-of-type {\n",
       "        vertical-align: middle;\n",
       "    }\n",
       "\n",
       "    .dataframe tbody tr th {\n",
       "        vertical-align: top;\n",
       "    }\n",
       "\n",
       "    .dataframe thead th {\n",
       "        text-align: right;\n",
       "    }\n",
       "</style>\n",
       "<table border=\"1\" class=\"dataframe\">\n",
       "  <thead>\n",
       "    <tr style=\"text-align: right;\">\n",
       "      <th></th>\n",
       "      <th>id</th>\n",
       "      <th>marca</th>\n",
       "      <th>nombre</th>\n",
       "      <th>presentacion</th>\n",
       "      <th>categoria1</th>\n",
       "      <th>categoria2</th>\n",
       "      <th>categoria3</th>\n",
       "    </tr>\n",
       "  </thead>\n",
       "  <tbody>\n",
       "    <tr>\n",
       "      <th>53619</th>\n",
       "      <td>7798024299045</td>\n",
       "      <td>None</td>\n",
       "      <td>None</td>\n",
       "      <td>None</td>\n",
       "      <td>Almacén</td>\n",
       "      <td>Aceites</td>\n",
       "      <td>Aerosol</td>\n",
       "    </tr>\n",
       "    <tr>\n",
       "      <th>55798</th>\n",
       "      <td>7798061190213</td>\n",
       "      <td>None</td>\n",
       "      <td>None</td>\n",
       "      <td>None</td>\n",
       "      <td>Almacén</td>\n",
       "      <td>Aceites</td>\n",
       "      <td>Oliva</td>\n",
       "    </tr>\n",
       "  </tbody>\n",
       "</table>\n",
       "</div>"
      ],
      "text/plain": [
       "                  id marca nombre presentacion categoria1 categoria2  \\\n",
       "53619  7798024299045  None   None         None    Almacén    Aceites   \n",
       "55798  7798061190213  None   None         None    Almacén    Aceites   \n",
       "\n",
       "      categoria3  \n",
       "53619    Aerosol  \n",
       "55798      Oliva  "
      ]
     },
     "execution_count": 114,
     "metadata": {},
     "output_type": "execute_result"
    }
   ],
   "source": [
    "#veo cuales son los porductos sin 'nombre'\n",
    "producto[producto['nombre'].isnull()]\n",
    "#coinciden con los 2 null de marca"
   ]
  },
  {
   "cell_type": "code",
   "execution_count": 183,
   "metadata": {},
   "outputs": [],
   "source": [
    "#seteo el valor de datos faltantes en \"sin dato\"\n",
    "producto['nombre'].fillna(\"Sin Dato\", inplace = True)\n",
    "producto['marca'].fillna(\"Sin Dato\", inplace = True)\n",
    "producto['presentacion'].fillna(\"Sin Dato\", inplace = True)"
   ]
  },
  {
   "cell_type": "code",
   "execution_count": 38,
   "metadata": {},
   "outputs": [
    {
     "ename": "NameError",
     "evalue": "name 'producto' is not defined",
     "output_type": "error",
     "traceback": [
      "\u001b[0;31m---------------------------------------------------------------------------\u001b[0m",
      "\u001b[0;31mNameError\u001b[0m                                 Traceback (most recent call last)",
      "Input \u001b[0;32mIn [38]\u001b[0m, in \u001b[0;36m<cell line: 1>\u001b[0;34m()\u001b[0m\n\u001b[0;32m----> 1\u001b[0m \u001b[43mproducto\u001b[49m[\u001b[38;5;124m'\u001b[39m\u001b[38;5;124mid\u001b[39m\u001b[38;5;124m'\u001b[39m]\u001b[38;5;241m.\u001b[39mvalue_counts()\u001b[38;5;241m.\u001b[39msum\n",
      "\u001b[0;31mNameError\u001b[0m: name 'producto' is not defined"
     ]
    }
   ],
   "source": [
    "producto['id'].value_counts().sum #no hay valores repetidos en en id :) se puede usar como clave primario de ser necesario"
   ]
  },
  {
   "cell_type": "code",
   "execution_count": 190,
   "metadata": {},
   "outputs": [],
   "source": [
    "#elimino los números y unidades del nombre ya que parece un error de carga \n",
    "producto.nombre = producto.nombre.astype(str).apply(lambda x: x.strip('0123456789UnKgGr '))"
   ]
  },
  {
   "cell_type": "code",
   "execution_count": 191,
   "metadata": {},
   "outputs": [
    {
     "data": {
      "text/html": [
       "<div>\n",
       "<style scoped>\n",
       "    .dataframe tbody tr th:only-of-type {\n",
       "        vertical-align: middle;\n",
       "    }\n",
       "\n",
       "    .dataframe tbody tr th {\n",
       "        vertical-align: top;\n",
       "    }\n",
       "\n",
       "    .dataframe thead th {\n",
       "        text-align: right;\n",
       "    }\n",
       "</style>\n",
       "<table border=\"1\" class=\"dataframe\">\n",
       "  <thead>\n",
       "    <tr style=\"text-align: right;\">\n",
       "      <th></th>\n",
       "      <th>id</th>\n",
       "      <th>marca</th>\n",
       "      <th>nombre</th>\n",
       "      <th>presentacion</th>\n",
       "    </tr>\n",
       "  </thead>\n",
       "  <tbody>\n",
       "    <tr>\n",
       "      <th>0</th>\n",
       "      <td>0000000001663</td>\n",
       "      <td>LA ANÓNIMA</td>\n",
       "      <td>Radicheta Atada La Anonima</td>\n",
       "      <td>1.0 un</td>\n",
       "    </tr>\n",
       "    <tr>\n",
       "      <th>1</th>\n",
       "      <td>0000000002288</td>\n",
       "      <td>LA ANÓNIMA</td>\n",
       "      <td>Perejil Atado La Anonima</td>\n",
       "      <td>1.0 un</td>\n",
       "    </tr>\n",
       "    <tr>\n",
       "      <th>2</th>\n",
       "      <td>0000000205870</td>\n",
       "      <td>SIN MARCA</td>\n",
       "      <td>Ojo de Bife</td>\n",
       "      <td>1.0 kg</td>\n",
       "    </tr>\n",
       "    <tr>\n",
       "      <th>3</th>\n",
       "      <td>0000000205894</td>\n",
       "      <td>SIN MARCA</td>\n",
       "      <td>Milanesa de Peceto Novillito</td>\n",
       "      <td>1.0 kg</td>\n",
       "    </tr>\n",
       "    <tr>\n",
       "      <th>4</th>\n",
       "      <td>0000000205955</td>\n",
       "      <td>SIN MARCA</td>\n",
       "      <td>Chiquizuela Novillito</td>\n",
       "      <td>1.0 kg</td>\n",
       "    </tr>\n",
       "    <tr>\n",
       "      <th>...</th>\n",
       "      <td>...</td>\n",
       "      <td>...</td>\n",
       "      <td>...</td>\n",
       "      <td>...</td>\n",
       "    </tr>\n",
       "    <tr>\n",
       "      <th>72033</th>\n",
       "      <td>9569753142128</td>\n",
       "      <td>DELI-SITAS</td>\n",
       "      <td>Milhojas Cobertura de Chocolate Blanco Deli-Sitas</td>\n",
       "      <td>500.0 gr</td>\n",
       "    </tr>\n",
       "    <tr>\n",
       "      <th>72034</th>\n",
       "      <td>9795403001143</td>\n",
       "      <td>MAYO</td>\n",
       "      <td>Mini Pizzetas Mayo</td>\n",
       "      <td>12.0 un</td>\n",
       "    </tr>\n",
       "    <tr>\n",
       "      <th>72035</th>\n",
       "      <td>9990385651922</td>\n",
       "      <td>DANA</td>\n",
       "      <td>Te Negro en Hebras Lata Dana</td>\n",
       "      <td>50.0 gr</td>\n",
       "    </tr>\n",
       "    <tr>\n",
       "      <th>72036</th>\n",
       "      <td>9990385651939</td>\n",
       "      <td>DANA</td>\n",
       "      <td>Te Verde en Hebras Lata Dana</td>\n",
       "      <td>50.0 gr</td>\n",
       "    </tr>\n",
       "    <tr>\n",
       "      <th>72037</th>\n",
       "      <td>9990385651946</td>\n",
       "      <td>DANA</td>\n",
       "      <td>Yerba Mate Aromatizada Lata Dana</td>\n",
       "      <td>150.0 gr</td>\n",
       "    </tr>\n",
       "  </tbody>\n",
       "</table>\n",
       "<p>72038 rows × 4 columns</p>\n",
       "</div>"
      ],
      "text/plain": [
       "                  id        marca  \\\n",
       "0      0000000001663   LA ANÓNIMA   \n",
       "1      0000000002288   LA ANÓNIMA   \n",
       "2      0000000205870    SIN MARCA   \n",
       "3      0000000205894    SIN MARCA   \n",
       "4      0000000205955    SIN MARCA   \n",
       "...              ...          ...   \n",
       "72033  9569753142128  DELI-SITAS    \n",
       "72034  9795403001143         MAYO   \n",
       "72035  9990385651922         DANA   \n",
       "72036  9990385651939         DANA   \n",
       "72037  9990385651946         DANA   \n",
       "\n",
       "                                                  nombre presentacion  \n",
       "0                             Radicheta Atada La Anonima       1.0 un  \n",
       "1                               Perejil Atado La Anonima       1.0 un  \n",
       "2                                            Ojo de Bife       1.0 kg  \n",
       "3                           Milanesa de Peceto Novillito       1.0 kg  \n",
       "4                                  Chiquizuela Novillito       1.0 kg  \n",
       "...                                                  ...          ...  \n",
       "72033  Milhojas Cobertura de Chocolate Blanco Deli-Sitas     500.0 gr  \n",
       "72034                                 Mini Pizzetas Mayo      12.0 un  \n",
       "72035                       Te Negro en Hebras Lata Dana      50.0 gr  \n",
       "72036                       Te Verde en Hebras Lata Dana      50.0 gr  \n",
       "72037                   Yerba Mate Aromatizada Lata Dana     150.0 gr  \n",
       "\n",
       "[72038 rows x 4 columns]"
      ]
     },
     "execution_count": 191,
     "metadata": {},
     "output_type": "execute_result"
    }
   ],
   "source": [
    "producto"
   ]
  },
  {
   "cell_type": "code",
   "execution_count": 7,
   "metadata": {},
   "outputs": [],
   "source": [
    "#dataset sucursal\n",
    "sucursal = pd.read_csv(dataset6, delimiter=\",\", encoding=detect_encoding(dataset6))"
   ]
  },
  {
   "cell_type": "code",
   "execution_count": 8,
   "metadata": {},
   "outputs": [
    {
     "data": {
      "text/html": [
       "<div>\n",
       "<style scoped>\n",
       "    .dataframe tbody tr th:only-of-type {\n",
       "        vertical-align: middle;\n",
       "    }\n",
       "\n",
       "    .dataframe tbody tr th {\n",
       "        vertical-align: top;\n",
       "    }\n",
       "\n",
       "    .dataframe thead th {\n",
       "        text-align: right;\n",
       "    }\n",
       "</style>\n",
       "<table border=\"1\" class=\"dataframe\">\n",
       "  <thead>\n",
       "    <tr style=\"text-align: right;\">\n",
       "      <th></th>\n",
       "      <th>id</th>\n",
       "      <th>comercioId</th>\n",
       "      <th>banderaId</th>\n",
       "      <th>banderaDescripcion</th>\n",
       "      <th>comercioRazonSocial</th>\n",
       "      <th>provincia</th>\n",
       "      <th>localidad</th>\n",
       "      <th>direccion</th>\n",
       "      <th>lat</th>\n",
       "      <th>lng</th>\n",
       "      <th>sucursalNombre</th>\n",
       "      <th>sucursalTipo</th>\n",
       "    </tr>\n",
       "  </thead>\n",
       "  <tbody>\n",
       "    <tr>\n",
       "      <th>0</th>\n",
       "      <td>1-1-7</td>\n",
       "      <td>1</td>\n",
       "      <td>1</td>\n",
       "      <td>Super MAMI</td>\n",
       "      <td>Dinosaurio S.A.</td>\n",
       "      <td>AR-X</td>\n",
       "      <td>SALSIPUEDES</td>\n",
       "      <td>E53 1011 None</td>\n",
       "      <td>-31.126667</td>\n",
       "      <td>-64.295250</td>\n",
       "      <td>Super Mami 4</td>\n",
       "      <td>Hipermercado</td>\n",
       "    </tr>\n",
       "    <tr>\n",
       "      <th>1</th>\n",
       "      <td>10-1-1</td>\n",
       "      <td>10</td>\n",
       "      <td>1</td>\n",
       "      <td>Hipermercado Carrefour</td>\n",
       "      <td>INC S.A.</td>\n",
       "      <td>AR-B</td>\n",
       "      <td>San Isidro</td>\n",
       "      <td>Bernardo De Irigoyen 2647</td>\n",
       "      <td>-34.491345</td>\n",
       "      <td>-58.589025</td>\n",
       "      <td>San Isidro</td>\n",
       "      <td>Hipermercado</td>\n",
       "    </tr>\n",
       "    <tr>\n",
       "      <th>2</th>\n",
       "      <td>10-1-10</td>\n",
       "      <td>10</td>\n",
       "      <td>1</td>\n",
       "      <td>Hipermercado Carrefour</td>\n",
       "      <td>INC S.A.</td>\n",
       "      <td>AR-B</td>\n",
       "      <td>Hurlingham</td>\n",
       "      <td>Av. Vergara 1910</td>\n",
       "      <td>-34.620610</td>\n",
       "      <td>-58.633769</td>\n",
       "      <td>Villa Tesei</td>\n",
       "      <td>Hipermercado</td>\n",
       "    </tr>\n",
       "    <tr>\n",
       "      <th>3</th>\n",
       "      <td>10-1-11</td>\n",
       "      <td>10</td>\n",
       "      <td>1</td>\n",
       "      <td>Hipermercado Carrefour</td>\n",
       "      <td>INC S.A.</td>\n",
       "      <td>AR-B</td>\n",
       "      <td>Malvinas Argentinas</td>\n",
       "      <td>Av. Arturo Illia 3770</td>\n",
       "      <td>-34.528883</td>\n",
       "      <td>-58.701631</td>\n",
       "      <td>Malvinas Argentinas</td>\n",
       "      <td>Hipermercado</td>\n",
       "    </tr>\n",
       "    <tr>\n",
       "      <th>4</th>\n",
       "      <td>10-1-112</td>\n",
       "      <td>10</td>\n",
       "      <td>1</td>\n",
       "      <td>Hipermercado Carrefour</td>\n",
       "      <td>INC S.A.</td>\n",
       "      <td>AR-A</td>\n",
       "      <td>Salta</td>\n",
       "      <td>20 De Febrero 37</td>\n",
       "      <td>-24.789072</td>\n",
       "      <td>-65.413699</td>\n",
       "      <td>Salta</td>\n",
       "      <td>Hipermercado</td>\n",
       "    </tr>\n",
       "  </tbody>\n",
       "</table>\n",
       "</div>"
      ],
      "text/plain": [
       "         id  comercioId  banderaId      banderaDescripcion  \\\n",
       "0     1-1-7           1          1              Super MAMI   \n",
       "1    10-1-1          10          1  Hipermercado Carrefour   \n",
       "2   10-1-10          10          1  Hipermercado Carrefour   \n",
       "3   10-1-11          10          1  Hipermercado Carrefour   \n",
       "4  10-1-112          10          1  Hipermercado Carrefour   \n",
       "\n",
       "  comercioRazonSocial provincia            localidad  \\\n",
       "0     Dinosaurio S.A.      AR-X          SALSIPUEDES   \n",
       "1            INC S.A.      AR-B           San Isidro   \n",
       "2            INC S.A.      AR-B           Hurlingham   \n",
       "3            INC S.A.      AR-B  Malvinas Argentinas   \n",
       "4            INC S.A.      AR-A                Salta   \n",
       "\n",
       "                   direccion        lat        lng       sucursalNombre  \\\n",
       "0              E53 1011 None -31.126667 -64.295250         Super Mami 4   \n",
       "1  Bernardo De Irigoyen 2647 -34.491345 -58.589025           San Isidro   \n",
       "2           Av. Vergara 1910 -34.620610 -58.633769          Villa Tesei   \n",
       "3      Av. Arturo Illia 3770 -34.528883 -58.701631  Malvinas Argentinas   \n",
       "4           20 De Febrero 37 -24.789072 -65.413699                Salta   \n",
       "\n",
       "   sucursalTipo  \n",
       "0  Hipermercado  \n",
       "1  Hipermercado  \n",
       "2  Hipermercado  \n",
       "3  Hipermercado  \n",
       "4  Hipermercado  "
      ]
     },
     "execution_count": 8,
     "metadata": {},
     "output_type": "execute_result"
    }
   ],
   "source": [
    "sucursal.head()"
   ]
  },
  {
   "cell_type": "code",
   "execution_count": 10,
   "metadata": {},
   "outputs": [
    {
     "data": {
      "text/plain": [
       "id                     0\n",
       "comercioId             0\n",
       "banderaId              0\n",
       "banderaDescripcion     0\n",
       "comercioRazonSocial    0\n",
       "provincia              0\n",
       "localidad              0\n",
       "direccion              0\n",
       "lat                    0\n",
       "lng                    0\n",
       "sucursalNombre         0\n",
       "sucursalTipo           0\n",
       "dtype: int64"
      ]
     },
     "execution_count": 10,
     "metadata": {},
     "output_type": "execute_result"
    }
   ],
   "source": [
    "# no hay valores nulos\n",
    "sucursal.isnull().sum()"
   ]
  },
  {
   "cell_type": "code",
   "execution_count": 13,
   "metadata": {},
   "outputs": [],
   "source": [
    "#la tabla de Provincia contiene un Código que a simple vista parece coincidir con cada Provincia. \n",
    "#no se agrega info"
   ]
  },
  {
   "cell_type": "code",
   "execution_count": 14,
   "metadata": {},
   "outputs": [],
   "source": [
    "#cambio nombre de las columnas lat y lng para que sea más claro\n",
    "sucursal.rename(columns={'lat': 'Latitud', \n",
    "                            'lng': 'Longitud'}, inplace=True)\n"
   ]
  },
  {
   "cell_type": "code",
   "execution_count": 15,
   "metadata": {},
   "outputs": [
    {
     "data": {
      "text/html": [
       "<div>\n",
       "<style scoped>\n",
       "    .dataframe tbody tr th:only-of-type {\n",
       "        vertical-align: middle;\n",
       "    }\n",
       "\n",
       "    .dataframe tbody tr th {\n",
       "        vertical-align: top;\n",
       "    }\n",
       "\n",
       "    .dataframe thead th {\n",
       "        text-align: right;\n",
       "    }\n",
       "</style>\n",
       "<table border=\"1\" class=\"dataframe\">\n",
       "  <thead>\n",
       "    <tr style=\"text-align: right;\">\n",
       "      <th></th>\n",
       "      <th>id</th>\n",
       "      <th>comercioId</th>\n",
       "      <th>banderaId</th>\n",
       "      <th>banderaDescripcion</th>\n",
       "      <th>comercioRazonSocial</th>\n",
       "      <th>provincia</th>\n",
       "      <th>localidad</th>\n",
       "      <th>direccion</th>\n",
       "      <th>Latitud</th>\n",
       "      <th>Longitud</th>\n",
       "      <th>sucursalNombre</th>\n",
       "      <th>sucursalTipo</th>\n",
       "    </tr>\n",
       "  </thead>\n",
       "  <tbody>\n",
       "    <tr>\n",
       "      <th>0</th>\n",
       "      <td>1-1-7</td>\n",
       "      <td>1</td>\n",
       "      <td>1</td>\n",
       "      <td>Super MAMI</td>\n",
       "      <td>Dinosaurio S.A.</td>\n",
       "      <td>AR-X</td>\n",
       "      <td>SALSIPUEDES</td>\n",
       "      <td>E53 1011 None</td>\n",
       "      <td>-31.126667</td>\n",
       "      <td>-64.295250</td>\n",
       "      <td>Super Mami 4</td>\n",
       "      <td>Hipermercado</td>\n",
       "    </tr>\n",
       "    <tr>\n",
       "      <th>1</th>\n",
       "      <td>10-1-1</td>\n",
       "      <td>10</td>\n",
       "      <td>1</td>\n",
       "      <td>Hipermercado Carrefour</td>\n",
       "      <td>INC S.A.</td>\n",
       "      <td>AR-B</td>\n",
       "      <td>San Isidro</td>\n",
       "      <td>Bernardo De Irigoyen 2647</td>\n",
       "      <td>-34.491345</td>\n",
       "      <td>-58.589025</td>\n",
       "      <td>San Isidro</td>\n",
       "      <td>Hipermercado</td>\n",
       "    </tr>\n",
       "    <tr>\n",
       "      <th>2</th>\n",
       "      <td>10-1-10</td>\n",
       "      <td>10</td>\n",
       "      <td>1</td>\n",
       "      <td>Hipermercado Carrefour</td>\n",
       "      <td>INC S.A.</td>\n",
       "      <td>AR-B</td>\n",
       "      <td>Hurlingham</td>\n",
       "      <td>Av. Vergara 1910</td>\n",
       "      <td>-34.620610</td>\n",
       "      <td>-58.633769</td>\n",
       "      <td>Villa Tesei</td>\n",
       "      <td>Hipermercado</td>\n",
       "    </tr>\n",
       "    <tr>\n",
       "      <th>3</th>\n",
       "      <td>10-1-11</td>\n",
       "      <td>10</td>\n",
       "      <td>1</td>\n",
       "      <td>Hipermercado Carrefour</td>\n",
       "      <td>INC S.A.</td>\n",
       "      <td>AR-B</td>\n",
       "      <td>Malvinas Argentinas</td>\n",
       "      <td>Av. Arturo Illia 3770</td>\n",
       "      <td>-34.528883</td>\n",
       "      <td>-58.701631</td>\n",
       "      <td>Malvinas Argentinas</td>\n",
       "      <td>Hipermercado</td>\n",
       "    </tr>\n",
       "    <tr>\n",
       "      <th>4</th>\n",
       "      <td>10-1-112</td>\n",
       "      <td>10</td>\n",
       "      <td>1</td>\n",
       "      <td>Hipermercado Carrefour</td>\n",
       "      <td>INC S.A.</td>\n",
       "      <td>AR-A</td>\n",
       "      <td>Salta</td>\n",
       "      <td>20 De Febrero 37</td>\n",
       "      <td>-24.789072</td>\n",
       "      <td>-65.413699</td>\n",
       "      <td>Salta</td>\n",
       "      <td>Hipermercado</td>\n",
       "    </tr>\n",
       "    <tr>\n",
       "      <th>...</th>\n",
       "      <td>...</td>\n",
       "      <td>...</td>\n",
       "      <td>...</td>\n",
       "      <td>...</td>\n",
       "      <td>...</td>\n",
       "      <td>...</td>\n",
       "      <td>...</td>\n",
       "      <td>...</td>\n",
       "      <td>...</td>\n",
       "      <td>...</td>\n",
       "      <td>...</td>\n",
       "      <td>...</td>\n",
       "    </tr>\n",
       "    <tr>\n",
       "      <th>2328</th>\n",
       "      <td>9-3-5277</td>\n",
       "      <td>9</td>\n",
       "      <td>3</td>\n",
       "      <td>Jumbo</td>\n",
       "      <td>Jumbo Retail Argentina S.A.</td>\n",
       "      <td>AR-U</td>\n",
       "      <td>COMODORO RIVADAVIA</td>\n",
       "      <td>Yrigoyen Hipolito 0</td>\n",
       "      <td>-45.873300</td>\n",
       "      <td>-67.493500</td>\n",
       "      <td>Jumbo-Comodoro</td>\n",
       "      <td>Hipermercado</td>\n",
       "    </tr>\n",
       "    <tr>\n",
       "      <th>2329</th>\n",
       "      <td>9-3-5626</td>\n",
       "      <td>9</td>\n",
       "      <td>3</td>\n",
       "      <td>Jumbo</td>\n",
       "      <td>Jumbo Retail Argentina S.A.</td>\n",
       "      <td>AR-B</td>\n",
       "      <td>GENERAL PACHECO</td>\n",
       "      <td>Boulogne Sur Mer 1275</td>\n",
       "      <td>-34.474500</td>\n",
       "      <td>-58.625700</td>\n",
       "      <td>Jumbo Pacheco Novo</td>\n",
       "      <td>Hipermercado</td>\n",
       "    </tr>\n",
       "    <tr>\n",
       "      <th>2330</th>\n",
       "      <td>9-3-5961</td>\n",
       "      <td>9</td>\n",
       "      <td>3</td>\n",
       "      <td>Jumbo</td>\n",
       "      <td>Jumbo Retail Argentina S.A.</td>\n",
       "      <td>AR-C</td>\n",
       "      <td>CIUDAD AUTONOMA BUENOS AIRES</td>\n",
       "      <td>Avenida Santa Fe 4950</td>\n",
       "      <td>-34.577200</td>\n",
       "      <td>-58.430000</td>\n",
       "      <td>Jumbo Av. Santa Fé</td>\n",
       "      <td>Supermercado</td>\n",
       "    </tr>\n",
       "    <tr>\n",
       "      <th>2331</th>\n",
       "      <td>9-3-628</td>\n",
       "      <td>9</td>\n",
       "      <td>3</td>\n",
       "      <td>Jumbo</td>\n",
       "      <td>Jumbo Retail Argentina S.A.</td>\n",
       "      <td>AR-B</td>\n",
       "      <td>SAN FERNANDO</td>\n",
       "      <td>Avenida Del Libertador Gral San Martin 2271</td>\n",
       "      <td>-34.446900</td>\n",
       "      <td>-58.545700</td>\n",
       "      <td>Jumbo San Fernando</td>\n",
       "      <td>Supermercado</td>\n",
       "    </tr>\n",
       "    <tr>\n",
       "      <th>2332</th>\n",
       "      <td>9-3-662</td>\n",
       "      <td>9</td>\n",
       "      <td>3</td>\n",
       "      <td>Jumbo</td>\n",
       "      <td>Jumbo Retail Argentina S.A.</td>\n",
       "      <td>AR-B</td>\n",
       "      <td>DEL VISO</td>\n",
       "      <td>Acceso Pilar Norte 0</td>\n",
       "      <td>-34.436000</td>\n",
       "      <td>-58.808000</td>\n",
       "      <td>Jumbo Paseo del Pilar</td>\n",
       "      <td>Supermercado</td>\n",
       "    </tr>\n",
       "  </tbody>\n",
       "</table>\n",
       "<p>2333 rows × 12 columns</p>\n",
       "</div>"
      ],
      "text/plain": [
       "            id  comercioId  banderaId      banderaDescripcion  \\\n",
       "0        1-1-7           1          1              Super MAMI   \n",
       "1       10-1-1          10          1  Hipermercado Carrefour   \n",
       "2      10-1-10          10          1  Hipermercado Carrefour   \n",
       "3      10-1-11          10          1  Hipermercado Carrefour   \n",
       "4     10-1-112          10          1  Hipermercado Carrefour   \n",
       "...        ...         ...        ...                     ...   \n",
       "2328  9-3-5277           9          3                   Jumbo   \n",
       "2329  9-3-5626           9          3                   Jumbo   \n",
       "2330  9-3-5961           9          3                   Jumbo   \n",
       "2331   9-3-628           9          3                   Jumbo   \n",
       "2332   9-3-662           9          3                   Jumbo   \n",
       "\n",
       "              comercioRazonSocial provincia                     localidad  \\\n",
       "0                 Dinosaurio S.A.      AR-X                   SALSIPUEDES   \n",
       "1                        INC S.A.      AR-B                    San Isidro   \n",
       "2                        INC S.A.      AR-B                    Hurlingham   \n",
       "3                        INC S.A.      AR-B           Malvinas Argentinas   \n",
       "4                        INC S.A.      AR-A                         Salta   \n",
       "...                           ...       ...                           ...   \n",
       "2328  Jumbo Retail Argentina S.A.      AR-U            COMODORO RIVADAVIA   \n",
       "2329  Jumbo Retail Argentina S.A.      AR-B               GENERAL PACHECO   \n",
       "2330  Jumbo Retail Argentina S.A.      AR-C  CIUDAD AUTONOMA BUENOS AIRES   \n",
       "2331  Jumbo Retail Argentina S.A.      AR-B                  SAN FERNANDO   \n",
       "2332  Jumbo Retail Argentina S.A.      AR-B                      DEL VISO   \n",
       "\n",
       "                                        direccion    Latitud   Longitud  \\\n",
       "0                                   E53 1011 None -31.126667 -64.295250   \n",
       "1                       Bernardo De Irigoyen 2647 -34.491345 -58.589025   \n",
       "2                                Av. Vergara 1910 -34.620610 -58.633769   \n",
       "3                           Av. Arturo Illia 3770 -34.528883 -58.701631   \n",
       "4                                20 De Febrero 37 -24.789072 -65.413699   \n",
       "...                                           ...        ...        ...   \n",
       "2328                          Yrigoyen Hipolito 0 -45.873300 -67.493500   \n",
       "2329                        Boulogne Sur Mer 1275 -34.474500 -58.625700   \n",
       "2330                        Avenida Santa Fe 4950 -34.577200 -58.430000   \n",
       "2331  Avenida Del Libertador Gral San Martin 2271 -34.446900 -58.545700   \n",
       "2332                         Acceso Pilar Norte 0 -34.436000 -58.808000   \n",
       "\n",
       "             sucursalNombre  sucursalTipo  \n",
       "0              Super Mami 4  Hipermercado  \n",
       "1                San Isidro  Hipermercado  \n",
       "2               Villa Tesei  Hipermercado  \n",
       "3       Malvinas Argentinas  Hipermercado  \n",
       "4                     Salta  Hipermercado  \n",
       "...                     ...           ...  \n",
       "2328         Jumbo-Comodoro  Hipermercado  \n",
       "2329     Jumbo Pacheco Novo  Hipermercado  \n",
       "2330     Jumbo Av. Santa Fé  Supermercado  \n",
       "2331     Jumbo San Fernando  Supermercado  \n",
       "2332  Jumbo Paseo del Pilar  Supermercado  \n",
       "\n",
       "[2333 rows x 12 columns]"
      ]
     },
     "execution_count": 15,
     "metadata": {},
     "output_type": "execute_result"
    }
   ],
   "source": [
    "sucursal"
   ]
  },
  {
   "cell_type": "code",
   "execution_count": null,
   "metadata": {},
   "outputs": [],
   "source": [
    "#importar mysql.connector como conexión \n",
    "#importar pandas como pd\n",
    "Try : \n",
    "    mydb = connection.connect(host=\"localhost\", base de datos = 'Estudiante',usuario=\"raíz\", passwd=\"raíz\",use_pure=True) \n",
    "    consulta = \"Seleccione * de los detalles del estudiante;\" \n",
    "    result_dataFrame = pd.read_sql(query,mydb) \n",
    "    mydb.close() #cerrar la conexión\n",
    "except Excepción como e: \n",
    "    mydb.close() \n",
    "    print(str(e))"
   ]
  }
 ],
 "metadata": {
  "interpreter": {
   "hash": "aee8b7b246df8f9039afb4144a1f6fd8d2ca17a180786b69acc140d282b71a49"
  },
  "kernelspec": {
   "display_name": "Python 3.9.13 64-bit",
   "language": "python",
   "name": "python3"
  },
  "language_info": {
   "codemirror_mode": {
    "name": "ipython",
    "version": 3
   },
   "file_extension": ".py",
   "mimetype": "text/x-python",
   "name": "python",
   "nbconvert_exporter": "python",
   "pygments_lexer": "ipython3",
   "version": "3.9.13"
  },
  "orig_nbformat": 4
 },
 "nbformat": 4,
 "nbformat_minor": 2
}
